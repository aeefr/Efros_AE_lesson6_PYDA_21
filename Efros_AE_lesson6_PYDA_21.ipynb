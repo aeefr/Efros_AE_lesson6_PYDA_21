{
 "cells": [
  {
   "cell_type": "markdown",
   "metadata": {},
   "source": [
    "##  Эфрос Алексей \n",
    "### Домашнее задание к лекции «Исключения и обработка ошибок»"
   ]
  },
  {
   "cell_type": "markdown",
   "metadata": {},
   "source": [
    "## Задание 1\n",
    "Печатные газеты использовали свой формат дат для каждого выпуска. Для каждой газеты из списка напишите формат указанной даты для перевода в объект datetime:\n",
    "The Moscow Times - Wednesday, October 2, 2002\n",
    "The Guardian - Friday, 11.10.13\n",
    "Daily News - Thursday, 18 August 1977"
   ]
  },
  {
   "cell_type": "code",
   "execution_count": 107,
   "metadata": {},
   "outputs": [
    {
     "name": "stdout",
     "output_type": "stream",
     "text": [
      "2002-10-02 00:00:00\n",
      "2013-10-11 00:00:00\n",
      "1977-08-18 00:00:00\n"
     ]
    }
   ],
   "source": [
    "from datetime import datetime\n",
    "\n",
    "format_time= ['%A, %B %d, %Y','%A, %d.%m.%y','%A, %d %B %Y']\n",
    "dict_paper = {'The Moscow Times': 'Wednesday, October 2, 2002',\n",
    "              'The Guardian':  'Friday, 11.10.13',\n",
    "                'Daily News': 'Thursday, 18 August 1977'}\n",
    "def convert(data):\n",
    "    for format_ in format_time:\n",
    "        try:\n",
    "            return(datetime.strptime(data,format_))\n",
    "        except:\n",
    "            continue\n",
    "            \n",
    "for key in dict_paper.keys():\n",
    "    print(convert(dict_paper[key]))\n",
    "    "
   ]
  },
  {
   "cell_type": "markdown",
   "metadata": {},
   "source": [
    "## Задание 2\n",
    "Дан поток дат в формате YYYY-MM-DD, в которых встречаются некорректные значения:\n",
    "stream = [‘2018-04-02’, ‘2018-02-29’, ‘2018-19-02’]\n",
    "\n",
    "Напишите функцию, которая проверяет эти даты на корректность. Т. е. для каждой даты возвращает True (дата корректна) или False (некорректная дата)."
   ]
  },
  {
   "cell_type": "code",
   "execution_count": 142,
   "metadata": {},
   "outputs": [
    {
     "name": "stdout",
     "output_type": "stream",
     "text": [
      "2018-04-02 True\n",
      "2018-02-29 False\n",
      "2018-19-02 False\n"
     ]
    }
   ],
   "source": [
    "from datetime import datetime\n",
    "stream= ['2018-04-02', '2018-02-29', '2018-19-02']\n",
    "\n",
    "\n",
    "def bingo(stream):\n",
    "    for data in stream:\n",
    "        try :\n",
    "            datetime.strptime(data,'%Y-%m-%d')\n",
    "            print(data,'True')\n",
    "        except:\n",
    "            print(data,'False')\n",
    "\n",
    "bingo(stream)"
   ]
  },
  {
   "cell_type": "markdown",
   "metadata": {},
   "source": [
    "## Задание 3\n",
    "Напишите функцию date_range, которая возвращает список дат за период от start_date до end_date. Даты должны вводиться в формате YYYY-MM-DD. В случае неверного формата или при start_date > end_date должен возвращаться пустой список."
   ]
  },
  {
   "cell_type": "code",
   "execution_count": 240,
   "metadata": {},
   "outputs": [
    {
     "name": "stdout",
     "output_type": "stream",
     "text": [
      "введите начальную дату в формате YYYY-MM-DD:1\n",
      "введите конечную дату в формате YYYY-MM-DD:11\n"
     ]
    },
    {
     "data": {
      "text/plain": [
       "[]"
      ]
     },
     "execution_count": 240,
     "metadata": {},
     "output_type": "execute_result"
    }
   ],
   "source": [
    "from datetime import date,timedelta\n",
    "start_date=input('введите начальную дату в формате YYYY-MM-DD:')\n",
    "end_date=input('введите конечную дату в формате YYYY-MM-DD:')\n",
    "date_list=[]\n",
    "format_date=['%Y-%m-%d']\n",
    "\n",
    "def date_range(start_date,end_date):   \n",
    "    try:\n",
    "        start_date_f = datetime.strptime(start_date, format_date[0])\n",
    "        end_date_f = datetime.strptime(end_date, format_date[0])\n",
    "        while start_date_f <= end_date_f:\n",
    "            date_list.append(start_date_f.strftime(format_date[0]))\n",
    "            start_date_f += timedelta(days=1)\n",
    "        return(date_list)\n",
    "    except:\n",
    "        pass\n",
    "        return(date_list)\n",
    "        \n",
    "date_range(start_date,end_date)\n"
   ]
  },
  {
   "cell_type": "markdown",
   "metadata": {},
   "source": [
    "## Задание 4 (бонусное)\n",
    "Ваш коллега прислал код функции:\n",
    "\n",
    "DEFAULT_USER_COUNT = 3\n",
    "\n",
    "def delete_and_return_last_user(region, default_list=[‘A100’, ‘A101’, ‘A102’]):\n",
    "\"\"“\n",
    "Удаляет из списка default_list последнего пользователя\n",
    "и возвращает ID нового последнего пользователя.\n",
    "”\"\"\n",
    "element_to_delete = default_list[-1]\n",
    "default_list.remove(element_to_delete)\n",
    "\n",
    "1\n",
    "return default_list[DEFAULT_USER_COUNT-2]\n",
    "При однократном вызове этой функции все работает корректно:\n",
    "delete_and_return_last_user(1)\n",
    "‘A101’\n",
    "\n",
    "Однако, при повторном вызове получается ошибка IndexError: list index out of range.\n",
    "\n",
    "Задание:\n",
    "\n",
    "Что значит ошибка list index out of range?\n",
    "Почему при первом запуске функция работает корректно, а при втором - нет?"
   ]
  },
  {
   "cell_type": "markdown",
   "metadata": {},
   "source": [
    "### Ошибка происходит из-за того что коллега внутри цикла, проходящего по списку, уменьшает сам список. В результате, в какой-то момент оказывается, что индекс выходит за реальные границы списка. В общем случае не рекомендуется в цикле изменять список, по которому цикл проходит (по крайней мере, не изменять его размеры)."
   ]
  },
  {
   "cell_type": "code",
   "execution_count": null,
   "metadata": {},
   "outputs": [],
   "source": []
  }
 ],
 "metadata": {
  "kernelspec": {
   "display_name": "Python 3",
   "language": "python",
   "name": "python3"
  },
  "language_info": {
   "codemirror_mode": {
    "name": "ipython",
    "version": 3
   },
   "file_extension": ".py",
   "mimetype": "text/x-python",
   "name": "python",
   "nbconvert_exporter": "python",
   "pygments_lexer": "ipython3",
   "version": "3.8.5"
  }
 },
 "nbformat": 4,
 "nbformat_minor": 4
}
